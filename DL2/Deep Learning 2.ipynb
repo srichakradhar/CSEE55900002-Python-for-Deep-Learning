{
 "cells": [
  {
   "cell_type": "code",
   "execution_count": 1,
   "metadata": {},
   "outputs": [],
   "source": [
    "from keras import Sequential\n",
    "from keras.datasets import mnist\n",
    "import numpy as np\n",
    "import matplotlib.pyplot as plt\n",
    "from keras.layers import Dense\n",
    "from keras.utils import to_categorical\n",
    "from sklearn.feature_extraction.tests import test_image"
   ]
  },
  {
   "cell_type": "markdown",
   "metadata": {},
   "source": [
    "### Load Data"
   ]
  },
  {
   "cell_type": "code",
   "execution_count": 29,
   "metadata": {},
   "outputs": [],
   "source": [
    "(train_images, train_labels), (test_images, test_labels) = mnist.load_data()"
   ]
  },
  {
   "cell_type": "markdown",
   "metadata": {},
   "source": [
    "### Display the first image in the training data"
   ]
  },
  {
   "cell_type": "code",
   "execution_count": 6,
   "metadata": {},
   "outputs": [
    {
     "data": {
      "image/png": "[encoded data removed]",
      "text/plain": [
       "<Figure size 432x288 with 1 Axes>"
      ]
     },
     "metadata": {
      "needs_background": "light"
     },
     "output_type": "display_data"
    }
   ],
   "source": [
    "plt.imshow(train_images[0, :, :], cmap='gray')\n",
    "plt.title('Ground Truth : {}'.format(train_labels[0]))\n",
    "plt.show()"
   ]
  },
  {
   "cell_type": "markdown",
   "metadata": {},
   "source": [
    "### Process the data\n",
    "1. convert each image of shape 28*28 to 784 dimensional which will be fed to the network as a single feature"
   ]
  },
  {
   "cell_type": "code",
   "execution_count": 30,
   "metadata": {},
   "outputs": [],
   "source": [
    "dimData = np.prod(train_images.shape[1:])\n",
    "train_data = train_images.reshape(train_images.shape[0], dimData)\n",
    "test_data = test_images.reshape(test_images.shape[0], dimData)"
   ]
  },
  {
   "cell_type": "markdown",
   "metadata": {},
   "source": [
    "### Convert data to float and scale values between 0 and 1"
   ]
  },
  {
   "cell_type": "code",
   "execution_count": 31,
   "metadata": {},
   "outputs": [],
   "source": [
    "train_data = train_data.astype('float')\n",
    "test_data = test_data.astype('float')\n",
    "\n",
    "# scale data\n",
    "train_data /= 255.0\n",
    "test_data /= 255.0\n",
    "\n",
    "# change the labels from integer to one-hot encoding\n",
    "train_labels_one_hot = to_categorical(train_labels)\n",
    "test_labels_one_hot = to_categorical(test_labels)"
   ]
  },
  {
   "cell_type": "markdown",
   "metadata": {},
   "source": [
    "### Create the network"
   ]
  },
  {
   "cell_type": "code",
   "execution_count": 33,
   "metadata": {},
   "outputs": [
    {
     "name": "stdout",
     "output_type": "stream",
     "text": [
      "Epoch 1/10\n",
      "235/235 [==============================] - 6s 26ms/step - loss: 0.2661 - accuracy: 0.9227 - val_loss: 0.1207 - val_accuracy: 0.9634\n",
      "Epoch 2/10\n",
      "235/235 [==============================] - 6s 25ms/step - loss: 0.0903 - accuracy: 0.9729 - val_loss: 0.0813 - val_accuracy: 0.9736\n",
      "Epoch 3/10\n",
      "235/235 [==============================] - 6s 25ms/step - loss: 0.0550 - accuracy: 0.9833 - val_loss: 0.0684 - val_accuracy: 0.9795\n",
      "Epoch 4/10\n",
      "235/235 [==============================] - 7s 30ms/step - loss: 0.0381 - accuracy: 0.9877 - val_loss: 0.0713 - val_accuracy: 0.9796\n",
      "Epoch 5/10\n",
      "235/235 [==============================] - 7s 30ms/step - loss: 0.0265 - accuracy: 0.9917 - val_loss: 0.0643 - val_accuracy: 0.9816\n",
      "Epoch 6/10\n",
      "235/235 [==============================] - 6s 27ms/step - loss: 0.0212 - accuracy: 0.9934 - val_loss: 0.0594 - val_accuracy: 0.9819- loss: 0.020\n",
      "Epoch 7/10\n",
      "235/235 [==============================] - 7s 31ms/step - loss: 0.0174 - accuracy: 0.9944 - val_loss: 0.0853 - val_accuracy: 0.9754\n",
      "Epoch 8/10\n",
      "235/235 [==============================] - 8s 36ms/step - loss: 0.0133 - accuracy: 0.9955 - val_loss: 0.0726 - val_accuracy: 0.9808\n",
      "Epoch 9/10\n",
      "235/235 [==============================] - 8s 34ms/step - loss: 0.0108 - accuracy: 0.9961 - val_loss: 0.0837 - val_accuracy: 0.9768\n",
      "Epoch 10/10\n",
      "235/235 [==============================] - 8s 35ms/step - loss: 0.0121 - accuracy: 0.9960 - val_loss: 0.0742 - val_accuracy: 0.9803\n",
      "313/313 [==============================] - 2s 6ms/step - loss: 0.0742 - accuracy: 0.9803\n",
      "Evaluation result on Test Data : Loss = 0.07417165488004684, accuracy = 0.9803000092506409\n"
     ]
    }
   ],
   "source": [
    "model = Sequential()\n",
    "model.add(Dense(512, activation='relu', input_shape=(dimData,)))\n",
    "model.add(Dense(512, activation='relu'))\n",
    "model.add(Dense(10, activation='softmax'))\n",
    "\n",
    "model.compile(optimizer='adam', loss='categorical_crossentropy', metrics=['accuracy'])\n",
    "history = model.fit(train_data, train_labels_one_hot, batch_size=256, epochs=10, verbose=1,\n",
    "                    validation_data=(test_data, test_labels_one_hot))\n",
    "\n",
    "[test_loss, test_acc] = model.evaluate(test_data, test_labels_one_hot)\n",
    "print(\"Evaluation result on Test Data : Loss = {}, accuracy = {}\".format(test_loss, test_acc))"
   ]
  },
  {
   "cell_type": "markdown",
   "metadata": {},
   "source": [
    "## Task 1\n",
    "Using the history object in the source code, plot the loss and accuracy for both training data and validation data"
   ]
  },
  {
   "cell_type": "code",
   "execution_count": 34,
   "metadata": {},
   "outputs": [
    {
     "data": {
      "image/png": "[encoded data removed]",
      "text/plain": [
       "<Figure size 432x288 with 1 Axes>"
      ]
     },
     "metadata": {
      "needs_background": "light"
     },
     "output_type": "display_data"
    }
   ],
   "source": [
    "plt.plot(history.history['loss'], color=\"red\")\n",
    "plt.plot(history.history['accuracy'], color=\"green\")\n",
    "plt.plot(history.history['val_loss'], color=\"black\")\n",
    "plt.plot(history.history['val_accuracy'], color=\"brown\")\n",
    "plt.title('Loss & Accuracy')\n",
    "plt.xlabel('Epoch')\n",
    "plt.legend(['train loss', 'train acc', 'val loss', 'val acc'], loc='center right')\n",
    "plt.show()"
   ]
  },
  {
   "cell_type": "markdown",
   "metadata": {},
   "source": [
    "# Task 2\n",
    "Plot one of the images in the test data, and then do inferencing to check what is the prediction of the model on that single image in the test data."
   ]
  },
  {
   "cell_type": "code",
   "execution_count": 43,
   "metadata": {},
   "outputs": [
    {
     "name": "stdout",
     "output_type": "stream",
     "text": [
      "The prediction for the 44 image in the test dataset is: [3]\n"
     ]
    },
    {
     "data": {
      "image/png": "[encoded data removed]",
      "text/plain": [
       "<Figure size 432x288 with 1 Axes>"
      ]
     },
     "metadata": {
      "needs_background": "light"
     },
     "output_type": "display_data"
    }
   ],
   "source": [
    "random_index = np.random.randint(100)\n",
    "predict_test = model.predict_classes(test_data[[random_index], :])\n",
    "print(\"The prediction for the {} image in the test dataset is: {}\".format(random_index, predict_test))\n",
    "\n",
    "plt.imshow(test_images[random_index, :, :], cmap='gray')\n",
    "plt.title('Ground Truth : {}'.format(test_labels[random_index]))\n",
    "plt.show()"
   ]
  },
  {
   "cell_type": "markdown",
   "metadata": {},
   "source": [
    "# Task 3\n",
    "We had used 2 hidden layers and Relu activation. Try to change the number of hidden layer and the activation to tanh or sigmoid and see what happens"
   ]
  },
  {
   "cell_type": "code",
   "execution_count": 41,
   "metadata": {},
   "outputs": [
    {
     "name": "stdout",
     "output_type": "stream",
     "text": [
      "Epoch 1/10\n",
      "235/235 [==============================] - 9s 39ms/step - loss: 0.0129 - accuracy: 0.9960 - val_loss: 0.0986 - val_accuracy: 0.9800\n",
      "Epoch 2/10\n",
      "235/235 [==============================] - 8s 35ms/step - loss: 0.0040 - accuracy: 0.9988 - val_loss: 0.0808 - val_accuracy: 0.9832\n",
      "Epoch 3/10\n",
      "235/235 [==============================] - 8s 35ms/step - loss: 0.0043 - accuracy: 0.9987 - val_loss: 0.0841 - val_accuracy: 0.9838\n",
      "Epoch 4/10\n",
      "235/235 [==============================] - 7s 31ms/step - loss: 0.0031 - accuracy: 0.9991 - val_loss: 0.0948 - val_accuracy: 0.9827\n",
      "Epoch 5/10\n",
      "235/235 [==============================] - 7s 31ms/step - loss: 0.0058 - accuracy: 0.9982 - val_loss: 0.0898 - val_accuracy: 0.9836\n",
      "Epoch 6/10\n",
      "235/235 [==============================] - 7s 28ms/step - loss: 0.0012 - accuracy: 0.9996 - val_loss: 0.0941 - val_accuracy: 0.9836\n",
      "Epoch 7/10\n",
      "235/235 [==============================] - 6s 26ms/step - loss: 0.0013 - accuracy: 0.9996 - val_loss: 0.0923 - val_accuracy: 0.9857\n",
      "Epoch 8/10\n",
      "235/235 [==============================] - 6s 26ms/step - loss: 0.0018 - accuracy: 0.9995 - val_loss: 0.0893 - val_accuracy: 0.9855\n",
      "Epoch 9/10\n",
      "235/235 [==============================] - 7s 28ms/step - loss: 0.0013 - accuracy: 0.9996 - val_loss: 0.0998 - val_accuracy: 0.9820\n",
      "Epoch 10/10\n",
      "235/235 [==============================] - 6s 27ms/step - loss: 0.0092 - accuracy: 0.9975 - val_loss: 0.1086 - val_accuracy: 0.9813\n",
      "313/313 [==============================] - 1s 2ms/step - loss: 2.7508 - accuracy: 0.0892\n",
      "Evaluation result on Test Data : Loss = 2.750793218612671, accuracy = 0.08919999748468399\n"
     ]
    },
    {
     "data": {
      "image/png": "[encoded data removed]",
      "text/plain": [
       "<Figure size 432x288 with 1 Axes>"
      ]
     },
     "metadata": {
      "needs_background": "light"
     },
     "output_type": "display_data"
    }
   ],
   "source": [
    "model2 = Sequential()\n",
    "model2.add(Dense(256, activation='relu', input_shape=(dimData,)))\n",
    "model2.add(Dense(128, activation='sigmoid'))\n",
    "model2.add(Dense(10, activation='softmax'))\n",
    "\n",
    "model2.compile(optimizer='adam', loss='categorical_crossentropy', metrics=['accuracy'])\n",
    "history2 = model.fit(train_data, train_labels_one_hot, batch_size=256, epochs=10, verbose=1,\n",
    "                    validation_data=(test_data, test_labels_one_hot))\n",
    "\n",
    "[test_loss2, test_acc2] = model2.evaluate(test_data, test_labels_one_hot)\n",
    "print(\"Evaluation result on Test Data : Loss = {}, accuracy = {}\".format(test_loss2, test_acc2))\n",
    "\n",
    "plt.plot(history2.history['loss'], color=\"red\")\n",
    "plt.plot(history2.history['accuracy'], color=\"green\")\n",
    "plt.plot(history2.history['val_loss'], color=\"black\")\n",
    "plt.plot(history2.history['val_accuracy'], color=\"brown\")\n",
    "plt.title('Loss & Accuracy')\n",
    "plt.legend(['train loss', 'train acc', 'val loss', 'val acc'], loc='center right')\n",
    "plt.show()"
   ]
  },
  {
   "cell_type": "markdown",
   "metadata": {},
   "source": [
    "### Report\n",
    "tanh\n",
    "\n",
    "|layer1|layer2|loss|accuracy|\n",
    "|-----|------|-----|------|\n",
    "|500| 446| 2.37 | 93%|\n",
    "|256| 128| 2.4 |90%|\n",
    "|1024| 512| 3.6 |94%|\n",
    "\n",
    "sigmoid\n",
    "\n",
    "|layer1|layer2|loss|accuracy|\n",
    "|-----|------|-----|------|\n",
    "|500| 446| 3.7 | 92%|\n",
    "|256| 128| 2.6 |89%|\n",
    "|1024| 512| 4.6 |90%|\n",
    "\n",
    "relu\n",
    "\n",
    "|layer1|layer2|loss|accuracy|\n",
    "|-----|------|-----|------|\n",
    "|500| 446| 2.1 | 94%|\n",
    "|256| 128| 3.4 |92%|\n",
    "|1024| 512| 2.6 |93%|"
   ]
  },
  {
   "cell_type": "markdown",
   "metadata": {},
   "source": [
    "# Task 4\n",
    "Run the same code without scaling the images, how the accuracy changes?"
   ]
  },
  {
   "cell_type": "code",
   "execution_count": 25,
   "metadata": {},
   "outputs": [
    {
     "name": "stdout",
     "output_type": "stream",
     "text": [
      "Epoch 1/10\n",
      "235/235 [==============================] - 7s 29ms/step - loss: 4.0267 - accuracy: 0.8943 - val_loss: 0.5832 - val_accuracy: 0.9347\n",
      "Epoch 2/10\n",
      "235/235 [==============================] - 7s 29ms/step - loss: 0.3254 - accuracy: 0.9565 - val_loss: 0.4575 - val_accuracy: 0.9475\n",
      "Epoch 3/10\n",
      "235/235 [==============================] - 7s 30ms/step - loss: 0.1831 - accuracy: 0.9703 - val_loss: 0.4079 - val_accuracy: 0.9516\n",
      "Epoch 4/10\n",
      "235/235 [==============================] - 7s 28ms/step - loss: 0.1108 - accuracy: 0.9788 - val_loss: 0.3798 - val_accuracy: 0.9562\n",
      "Epoch 5/10\n",
      "235/235 [==============================] - 7s 30ms/step - loss: 0.0873 - accuracy: 0.9829 - val_loss: 0.3187 - val_accuracy: 0.9611\n",
      "Epoch 6/10\n",
      "235/235 [==============================] - 7s 29ms/step - loss: 0.0800 - accuracy: 0.9848 - val_loss: 0.3441 - val_accuracy: 0.9638\n",
      "Epoch 7/10\n",
      "235/235 [==============================] - 8s 35ms/step - loss: 0.0791 - accuracy: 0.9849 - val_loss: 0.3393 - val_accuracy: 0.9638\n",
      "Epoch 8/10\n",
      "235/235 [==============================] - 8s 36ms/step - loss: 0.0889 - accuracy: 0.9843 - val_loss: 0.3802 - val_accuracy: 0.9617\n",
      "Epoch 9/10\n",
      "235/235 [==============================] - 12s 50ms/step - loss: 0.0931 - accuracy: 0.9835 - val_loss: 0.3566 - val_accuracy: 0.9615\n",
      "Epoch 10/10\n",
      "235/235 [==============================] - 10s 41ms/step - loss: 0.0731 - accuracy: 0.9859 - val_loss: 0.3671 - val_accuracy: 0.9645\n",
      "313/313 [==============================] - 3s 11ms/step - loss: 0.3671 - accuracy: 0.9645\n",
      "Evaluation result on Test Data : Loss = 0.3671272099018097, accuracy = 0.9645000100135803\n"
     ]
    },
    {
     "data": {
      "image/png": "[encoded data removed]",
      "text/plain": [
       "<Figure size 432x288 with 1 Axes>"
      ]
     },
     "metadata": {
      "needs_background": "light"
     },
     "output_type": "display_data"
    }
   ],
   "source": [
    "(train_images, train_labels), (test_images, test_labels) = mnist.load_data()\n",
    "\n",
    "dimData = np.prod(train_images.shape[1:])\n",
    "train_data = train_images.reshape(train_images.shape[0], dimData)\n",
    "test_data = test_images.reshape(test_images.shape[0], dimData)\n",
    "\n",
    "train_data = train_data.astype('float')\n",
    "test_data = test_data.astype('float')\n",
    "\n",
    "# change the labels from integer to one-hot encoding\n",
    "train_labels_one_hot = to_categorical(train_labels)\n",
    "test_labels_one_hot = to_categorical(test_labels)\n",
    "\n",
    "model = Sequential()\n",
    "model.add(Dense(512, activation='relu', input_shape=(dimData,)))\n",
    "model.add(Dense(512, activation='relu'))\n",
    "model.add(Dense(10, activation='softmax'))\n",
    "\n",
    "model.compile(optimizer='adam', loss='categorical_crossentropy', metrics=['accuracy'])\n",
    "history = model.fit(train_data, train_labels_one_hot, batch_size=256, epochs=10, verbose=1,\n",
    "                    validation_data=(test_data, test_labels_one_hot))\n",
    "\n",
    "[test_loss, test_acc] = model.evaluate(test_data, test_labels_one_hot)\n",
    "print(\"Evaluation result on Test Data : Loss = {}, accuracy = {}\".format(test_loss, test_acc))\n",
    "\n",
    "plt.plot(history.history['loss'], color=\"red\")\n",
    "plt.plot(history.history['accuracy'], color=\"green\")\n",
    "plt.plot(history.history['val_loss'], color=\"black\")\n",
    "plt.plot(history.history['val_accuracy'], color=\"brown\")\n",
    "plt.title('Loss & Accuracy')\n",
    "plt.legend(['train loss', 'train acc', 'val loss', 'val acc'], loc='center right')\n",
    "plt.show()"
   ]
  },
  {
   "cell_type": "markdown",
   "metadata": {},
   "source": [
    "Accuracy dropped to **96.4%** from **98%** without scaling."
   ]
  }
 ],
 "metadata": {
  "kernelspec": {
   "display_name": "Python 3",
   "language": "python",
   "name": "python3"
  },
  "language_info": {
   "codemirror_mode": {
    "name": "ipython",
    "version": 3
   },
   "file_extension": ".py",
   "mimetype": "text/x-python",
   "name": "python",
   "nbconvert_exporter": "python",
   "pygments_lexer": "ipython3",
   "version": "3.6.8"
  }
 },
 "nbformat": 4,
 "nbformat_minor": 4
}
