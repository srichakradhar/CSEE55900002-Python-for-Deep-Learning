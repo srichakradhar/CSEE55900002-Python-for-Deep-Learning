{
 "cells": [
  {
   "cell_type": "markdown",
   "metadata": {},
   "source": [
    "# DeepLearning_Lesson3: Word Embedding\n",
    "### Sentiment Analysis on the IMDB dataset"
   ]
  },
  {
   "cell_type": "markdown",
   "metadata": {},
   "source": [
    "### Task 1\n",
    "In the code provided,there are three mistake which stop the code to get run successfully; find those mistakes and explain why they need to be corrected to be able to get the code run"
   ]
  },
  {
   "cell_type": "code",
   "execution_count": 1,
   "metadata": {},
   "outputs": [],
   "source": [
    "from keras.models import Sequential\n",
    "from keras import layers\n",
    "from keras.preprocessing.text import Tokenizer\n",
    "import pandas as pd\n",
    "from sklearn import preprocessing\n",
    "from sklearn.model_selection import train_test_split"
   ]
  },
  {
   "cell_type": "code",
   "execution_count": 8,
   "metadata": {},
   "outputs": [
    {
     "name": "stdout",
     "output_type": "stream",
     "text": [
      "   Unnamed: 0  type                                             review label  \\\n",
      "0           0  test  Once again Mr. Costner has dragged out a movie...   neg   \n",
      "1           1  test  This is an example of why the majority of acti...   neg   \n",
      "2           2  test  First of all I hate those moronic rappers, who...   neg   \n",
      "3           3  test  Not even the Beatles could write songs everyon...   neg   \n",
      "4           4  test  Brass pictures (movies is not a fitting word f...   neg   \n",
      "\n",
      "          file  \n",
      "0      0_2.txt  \n",
      "1  10000_4.txt  \n",
      "2  10001_1.txt  \n",
      "3  10002_3.txt  \n",
      "4  10003_3.txt  \n"
     ]
    }
   ],
   "source": [
    "df = pd.read_csv('DeepLearning_Lesson3/imdb_master.csv',encoding='latin-1')\n",
    "print(df.head())\n",
    "sentences = df['review'].values\n",
    "y = df['label'].values"
   ]
  },
  {
   "cell_type": "code",
   "execution_count": 9,
   "metadata": {},
   "outputs": [],
   "source": [
    "#tokenizing data\n",
    "tokenizer = Tokenizer(num_words=2000)\n",
    "tokenizer.fit_on_texts(sentences)\n",
    "max_review_len = max([len(s.split()) for s in sentences])\n",
    "vocab_size = len(tokenizer.word_index) + 1\n",
    "\n",
    "#getting the vocabulary of data\n",
    "sentences = tokenizer.texts_to_matrix(sentences)"
   ]
  },
  {
   "cell_type": "code",
   "execution_count": 10,
   "metadata": {},
   "outputs": [],
   "source": [
    "le = preprocessing.LabelEncoder()\n",
    "y = le.fit_transform(y)\n",
    "X_train, X_test, y_train, y_test = train_test_split(sentences, y, test_size=0.25, random_state=1000)"
   ]
  },
  {
   "cell_type": "code",
   "execution_count": 11,
   "metadata": {},
   "outputs": [
    {
     "name": "stdout",
     "output_type": "stream",
     "text": [
      "Epoch 1/5\n",
      "293/293 [==============================] - 8s 26ms/step - loss: 0.8787 - acc: 0.5067 - val_loss: 0.8446 - val_acc: 0.5136\n",
      "Epoch 2/5\n",
      "293/293 [==============================] - 6s 20ms/step - loss: 0.7901 - acc: 0.5782 - val_loss: 0.8425 - val_acc: 0.5172\n",
      "Epoch 3/5\n",
      "293/293 [==============================] - 6s 20ms/step - loss: 0.6854 - acc: 0.6811 - val_loss: 0.8745 - val_acc: 0.5105\n",
      "Epoch 4/5\n",
      "293/293 [==============================] - 6s 20ms/step - loss: 0.4984 - acc: 0.8129 - val_loss: 0.9532 - val_acc: 0.5049\n",
      "Epoch 5/5\n",
      "293/293 [==============================] - 6s 21ms/step - loss: 0.2912 - acc: 0.9227 - val_loss: 1.0754 - val_acc: 0.5013\n"
     ]
    }
   ],
   "source": [
    "model = Sequential()\n",
    "model.add(layers.Dense(300, input_dim=2000, activation='relu'))\n",
    "model.add(layers.Dense(3, activation='softmax'))\n",
    "model.compile(loss='sparse_categorical_crossentropy',optimizer='adam',metrics=['acc'])\n",
    "history = model.fit(X_train,y_train, epochs=5, verbose=True, validation_data=(X_test,y_test), batch_size=256)"
   ]
  },
  {
   "cell_type": "code",
   "execution_count": null,
   "metadata": {},
   "outputs": [],
   "source": [
    "model.predict(X_text[0])"
   ]
  },
  {
   "cell_type": "code",
   "execution_count": 16,
   "metadata": {},
   "outputs": [
    {
     "data": {
      "image/png": "[encoded data removed]",
      "text/plain": [
       "<Figure size 432x288 with 1 Axes>"
      ]
     },
     "metadata": {
      "needs_background": "light"
     },
     "output_type": "display_data"
    }
   ],
   "source": [
    "import matplotlib.pyplot as plt\n",
    "\n",
    "plt.plot(history.history['loss'], color=\"green\")\n",
    "plt.plot(history.history['acc'], color=\"red\")\n",
    "plt.plot(history.history['val_loss'], color=\"blue\")\n",
    "plt.plot(history.history['val_acc'], color=\"yellow\")\n",
    "plt.title('model loss')\n",
    "plt.xlabel(\"Epoch\")\n",
    "plt.legend(['train loss', 'train acc','validation loss', 'validation acc'], loc='center right')\n",
    "plt.show()"
   ]
  },
  {
   "cell_type": "markdown",
   "metadata": {},
   "source": [
    "### Task 2\n",
    "Add embedding layer to the model, did you experience any improvement?"
   ]
  },
  {
   "cell_type": "code",
   "execution_count": 14,
   "metadata": {},
   "outputs": [
    {
     "name": "stdout",
     "output_type": "stream",
     "text": [
      "Epoch 1/5\n",
      "293/293 [==============================] - 159s 544ms/step - loss: 0.9497 - acc: 0.4950 - val_loss: 0.8781 - val_acc: 0.5086\n",
      "Epoch 2/5\n",
      "293/293 [==============================] - 148s 505ms/step - loss: 0.8636 - acc: 0.5236 - val_loss: 0.8736 - val_acc: 0.5139\n",
      "Epoch 3/5\n",
      "293/293 [==============================] - 129s 441ms/step - loss: 0.8519 - acc: 0.5322 - val_loss: 0.8724 - val_acc: 0.5142\n",
      "Epoch 4/5\n",
      "293/293 [==============================] - 135s 461ms/step - loss: 0.8479 - acc: 0.5376 - val_loss: 0.8735 - val_acc: 0.5146\n",
      "Epoch 5/5\n",
      "293/293 [==============================] - 130s 443ms/step - loss: 0.8455 - acc: 0.5400 - val_loss: 0.8729 - val_acc: 0.5167\n"
     ]
    }
   ],
   "source": [
    "from keras.layers import Embedding, Flatten\n",
    "from keras.preprocessing.sequence import pad_sequences\n",
    "\n",
    "padded_docs = pad_sequences(sentences, maxlen=max_review_len)\n",
    "X_train, X_test, y_train, y_test = train_test_split(padded_docs, y, test_size=0.25, random_state=1000)\n",
    "\n",
    "model2 = Sequential()\n",
    "model2.add(Embedding(vocab_size, 50, input_length=max_review_len))\n",
    "model2.add(Flatten())\n",
    "model2.add(layers.Dense(3, activation='softmax'))\n",
    "model2.compile(loss='sparse_categorical_crossentropy', optimizer='adam', metrics=['acc'])\n",
    "history2 = model2.fit(X_train, y_train, epochs=5, verbose=True, validation_data=(X_test, y_test), batch_size=256)"
   ]
  },
  {
   "cell_type": "code",
   "execution_count": 17,
   "metadata": {},
   "outputs": [
    {
     "data": {
      "image/png": "[encoded data removed]",
      "text/plain": [
       "<Figure size 432x288 with 1 Axes>"
      ]
     },
     "metadata": {
      "needs_background": "light"
     },
     "output_type": "display_data"
    }
   ],
   "source": [
    "plt.plot(history2.history['loss'], color=\"green\")\n",
    "plt.plot(history2.history['acc'], color=\"red\")\n",
    "plt.plot(history2.history['val_loss'], color=\"blue\")\n",
    "plt.plot(history2.history['val_acc'], color=\"yellow\")\n",
    "plt.title('model loss')\n",
    "plt.xlabel(\"Epoch\")\n",
    "plt.legend(['train loss', 'train acc','validation loss', 'validation acc'], loc='center right')\n",
    "plt.show()"
   ]
  },
  {
   "cell_type": "markdown",
   "metadata": {},
   "source": [
    "### Task 3\n",
    "Apply the codeon 20_newsgroup data set we worked in the previous classes"
   ]
  },
  {
   "cell_type": "code",
   "execution_count": 18,
   "metadata": {},
   "outputs": [
    {
     "name": "stderr",
     "output_type": "stream",
     "text": [
      "Downloading 20news dataset. This may take a few minutes.\n",
      "Downloading dataset from https://ndownloader.figshare.com/files/5975967 (14 MB)\n"
     ]
    }
   ],
   "source": [
    "from sklearn.datasets import fetch_20newsgroups\n",
    "\n",
    "newsgroups_train = fetch_20newsgroups(subset='train', shuffle=True, categories=['alt.atheism',\n",
    "                                                                                'comp.graphics',\n",
    "                                                                                'comp.os.ms-windows.misc',\n",
    "                                                                                'comp.sys.ibm.pc.hardware',\n",
    "                                                                                'comp.sys.mac.hardware',\n",
    "                                                                                'comp.windows.x',\n",
    "                                                                                'misc.forsale',\n",
    "                                                                                'rec.autos',\n",
    "                                                                                'rec.motorcycles',\n",
    "                                                                                'rec.sport.baseball',\n",
    "                                                                                'rec.sport.hockey',\n",
    "                                                                                'sci.crypt',\n",
    "                                                                                'sci.electronics',\n",
    "                                                                                'sci.med',\n",
    "                                                                                'sci.space',\n",
    "                                                                                'soc.religion.christian',\n",
    "                                                                                'talk.politics.guns',\n",
    "                                                                                'talk.politics.mideast',\n",
    "                                                                                'talk.politics.misc',\n",
    "                                                                                'talk.religion.misc'])"
   ]
  },
  {
   "cell_type": "code",
   "execution_count": 19,
   "metadata": {},
   "outputs": [
    {
     "name": "stdout",
     "output_type": "stream",
     "text": [
      "8485\n",
      "Epoch 1/50\n",
      "34/34 [==============================] - 66s 2s/step - loss: 3.2374 - acc: 0.0443 - val_loss: 2.9947 - val_acc: 0.0407\n",
      "Epoch 2/50\n",
      "34/34 [==============================] - 56s 2s/step - loss: 2.9932 - acc: 0.0449 - val_loss: 2.9937 - val_acc: 0.0407\n",
      "Epoch 3/50\n",
      "34/34 [==============================] - 54s 2s/step - loss: 2.9925 - acc: 0.0454 - val_loss: 2.9938 - val_acc: 0.0399\n",
      "Epoch 4/50\n",
      "34/34 [==============================] - 55s 2s/step - loss: 2.9938 - acc: 0.0454 - val_loss: 2.9939 - val_acc: 0.0403\n",
      "Epoch 5/50\n",
      "34/34 [==============================] - 54s 2s/step - loss: 2.9924 - acc: 0.0445 - val_loss: 2.9939 - val_acc: 0.0403\n",
      "Epoch 6/50\n",
      "34/34 [==============================] - 55s 2s/step - loss: 2.9921 - acc: 0.0445 - val_loss: 2.9937 - val_acc: 0.0403\n",
      "Epoch 7/50\n",
      "34/34 [==============================] - 54s 2s/step - loss: 2.9917 - acc: 0.0445 - val_loss: 2.9941 - val_acc: 0.0403\n",
      "Epoch 8/50\n",
      "34/34 [==============================] - 54s 2s/step - loss: 2.9910 - acc: 0.0447 - val_loss: 2.9925 - val_acc: 0.0407\n",
      "Epoch 9/50\n",
      "34/34 [==============================] - 56s 2s/step - loss: 2.9919 - acc: 0.0447 - val_loss: 2.9928 - val_acc: 0.0407\n",
      "Epoch 10/50\n",
      "34/34 [==============================] - 58s 2s/step - loss: 2.9913 - acc: 0.0449 - val_loss: 2.9925 - val_acc: 0.0407\n",
      "Epoch 11/50\n",
      "34/34 [==============================] - 54s 2s/step - loss: 2.9909 - acc: 0.0449 - val_loss: 2.9924 - val_acc: 0.0407\n",
      "Epoch 12/50\n",
      "34/34 [==============================] - 62s 2s/step - loss: 2.9906 - acc: 0.0449 - val_loss: 2.9923 - val_acc: 0.0407\n",
      "Epoch 13/50\n",
      "34/34 [==============================] - 60s 2s/step - loss: 2.9915 - acc: 0.0449 - val_loss: 2.9923 - val_acc: 0.0407\n",
      "Epoch 14/50\n",
      "34/34 [==============================] - 58s 2s/step - loss: 2.9907 - acc: 0.0453 - val_loss: 2.9923 - val_acc: 0.0410\n",
      "Epoch 15/50\n",
      "34/34 [==============================] - 58s 2s/step - loss: 2.9906 - acc: 0.0453 - val_loss: 2.9921 - val_acc: 0.0410\n",
      "Epoch 16/50\n",
      "34/34 [==============================] - 54s 2s/step - loss: 2.9899 - acc: 0.0453 - val_loss: 2.9916 - val_acc: 0.0410\n",
      "Epoch 17/50\n",
      "34/34 [==============================] - 61s 2s/step - loss: 2.9904 - acc: 0.0453 - val_loss: 2.9917 - val_acc: 0.0410\n",
      "Epoch 18/50\n",
      "34/34 [==============================] - 70s 2s/step - loss: 2.9898 - acc: 0.0453 - val_loss: 2.9917 - val_acc: 0.0410\n",
      "Epoch 19/50\n",
      "34/34 [==============================] - 82s 2s/step - loss: 2.9898 - acc: 0.0453 - val_loss: 2.9917 - val_acc: 0.0410\n",
      "Epoch 20/50\n",
      "34/34 [==============================] - 68s 2s/step - loss: 2.9898 - acc: 0.0453 - val_loss: 2.9916 - val_acc: 0.0410\n",
      "Epoch 21/50\n",
      "34/34 [==============================] - 69s 2s/step - loss: 2.9900 - acc: 0.0453 - val_loss: 2.9918 - val_acc: 0.0410\n",
      "Epoch 22/50\n",
      "34/34 [==============================] - 60s 2s/step - loss: 2.9900 - acc: 0.0453 - val_loss: 2.9918 - val_acc: 0.0410\n",
      "Epoch 23/50\n",
      "34/34 [==============================] - 60s 2s/step - loss: 2.9900 - acc: 0.0453 - val_loss: 2.9917 - val_acc: 0.0410\n",
      "Epoch 24/50\n",
      "34/34 [==============================] - 64s 2s/step - loss: 2.9900 - acc: 0.0453 - val_loss: 2.9917 - val_acc: 0.0410\n",
      "Epoch 25/50\n",
      "34/34 [==============================] - 68s 2s/step - loss: 2.9900 - acc: 0.0453 - val_loss: 2.9917 - val_acc: 0.0410\n",
      "Epoch 26/50\n",
      "34/34 [==============================] - 65s 2s/step - loss: 2.9900 - acc: 0.0453 - val_loss: 2.9917 - val_acc: 0.0410\n",
      "Epoch 27/50\n",
      "34/34 [==============================] - 60s 2s/step - loss: 2.9900 - acc: 0.0453 - val_loss: 2.9917 - val_acc: 0.0410\n",
      "Epoch 28/50\n",
      "34/34 [==============================] - 59s 2s/step - loss: 2.9900 - acc: 0.0453 - val_loss: 2.9917 - val_acc: 0.0410\n",
      "Epoch 29/50\n",
      "34/34 [==============================] - 60s 2s/step - loss: 2.9900 - acc: 0.0453 - val_loss: 2.9917 - val_acc: 0.0410\n",
      "Epoch 30/50\n",
      "34/34 [==============================] - 53s 2s/step - loss: 2.9900 - acc: 0.0453 - val_loss: 2.9917 - val_acc: 0.0410\n",
      "Epoch 31/50\n",
      "34/34 [==============================] - 54s 2s/step - loss: 2.9900 - acc: 0.0453 - val_loss: 2.9917 - val_acc: 0.0410\n",
      "Epoch 32/50\n",
      "34/34 [==============================] - 53s 2s/step - loss: 2.9900 - acc: 0.0453 - val_loss: 2.9917 - val_acc: 0.0410\n",
      "Epoch 33/50\n",
      "34/34 [==============================] - 53s 2s/step - loss: 2.9900 - acc: 0.0453 - val_loss: 2.9917 - val_acc: 0.0410\n",
      "Epoch 34/50\n",
      "34/34 [==============================] - 53s 2s/step - loss: 2.9900 - acc: 0.0453 - val_loss: 2.9917 - val_acc: 0.0410\n",
      "Epoch 35/50\n",
      "34/34 [==============================] - 53s 2s/step - loss: 2.9900 - acc: 0.0453 - val_loss: 2.9917 - val_acc: 0.0410\n",
      "Epoch 36/50\n",
      "34/34 [==============================] - 52s 2s/step - loss: 2.9900 - acc: 0.0453 - val_loss: 2.9917 - val_acc: 0.0410\n",
      "Epoch 37/50\n",
      "34/34 [==============================] - 53s 2s/step - loss: 2.9900 - acc: 0.0453 - val_loss: 2.9917 - val_acc: 0.0410\n",
      "Epoch 38/50\n",
      "34/34 [==============================] - 52s 2s/step - loss: 2.9900 - acc: 0.0453 - val_loss: 2.9917 - val_acc: 0.0410\n",
      "Epoch 39/50\n",
      "34/34 [==============================] - 52s 2s/step - loss: 2.9900 - acc: 0.0453 - val_loss: 2.9917 - val_acc: 0.0410\n",
      "Epoch 40/50\n",
      "34/34 [==============================] - 53s 2s/step - loss: 2.9900 - acc: 0.0453 - val_loss: 2.9917 - val_acc: 0.0410\n",
      "Epoch 41/50\n",
      "34/34 [==============================] - 53s 2s/step - loss: 2.9900 - acc: 0.0453 - val_loss: 2.9917 - val_acc: 0.0410\n",
      "Epoch 42/50\n",
      "34/34 [==============================] - 53s 2s/step - loss: 2.9900 - acc: 0.0453 - val_loss: 2.9917 - val_acc: 0.0410\n",
      "Epoch 43/50\n",
      "34/34 [==============================] - 52s 2s/step - loss: 2.9900 - acc: 0.0453 - val_loss: 2.9917 - val_acc: 0.0410\n",
      "Epoch 44/50\n",
      "34/34 [==============================] - 52s 2s/step - loss: 2.9900 - acc: 0.0453 - val_loss: 2.9917 - val_acc: 0.0410\n",
      "Epoch 45/50\n",
      "34/34 [==============================] - 52s 2s/step - loss: 2.9900 - acc: 0.0453 - val_loss: 2.9917 - val_acc: 0.0410\n",
      "Epoch 46/50\n",
      "34/34 [==============================] - 54s 2s/step - loss: 2.9900 - acc: 0.0453 - val_loss: 2.9917 - val_acc: 0.0410\n",
      "Epoch 47/50\n",
      "34/34 [==============================] - 52s 2s/step - loss: 2.9900 - acc: 0.0453 - val_loss: 2.9917 - val_acc: 0.0410\n",
      "Epoch 48/50\n",
      "34/34 [==============================] - 52s 2s/step - loss: 2.9900 - acc: 0.0453 - val_loss: 2.9917 - val_acc: 0.0410\n",
      "Epoch 49/50\n",
      "34/34 [==============================] - 53s 2s/step - loss: 2.9900 - acc: 0.0453 - val_loss: 2.9917 - val_acc: 0.0410\n",
      "Epoch 50/50\n",
      "34/34 [==============================] - 53s 2s/step - loss: 2.9900 - acc: 0.0453 - val_loss: 2.9917 - val_acc: 0.0410\n"
     ]
    }
   ],
   "source": [
    "sentences = newsgroups_train.data\n",
    "y = newsgroups_train.target\n",
    "\n",
    "# tokenizing data\n",
    "tokenizer = Tokenizer(num_words=2000)\n",
    "tokenizer.fit_on_texts(sentences)\n",
    "max_review_len = max([len(s.split()) for s in sentences])\n",
    "vocab_size = len(tokenizer.word_index) + 1\n",
    "sentences = tokenizer.texts_to_sequences(sentences)\n",
    "padded_docs = pad_sequences(sentences, maxlen=max_review_len)\n",
    "\n",
    "le = preprocessing.LabelEncoder()\n",
    "y = le.fit_transform(y)\n",
    "X_train, X_test, y_train, y_test = train_test_split(padded_docs, y, test_size=0.25, random_state=1000)\n",
    "\n",
    "print(len(X_train))\n",
    "# Number of features\n",
    "# print(input_dim)\n",
    "model = Sequential()\n",
    "\n",
    "model.add(Embedding(vocab_size, 50, input_length=max_review_len))\n",
    "model.add(Flatten())\n",
    "model.add(layers.Dense(20, activation='sigmoid'))\n",
    "model.compile(loss='sparse_categorical_crossentropy', optimizer='adam', metrics=['acc'])\n",
    "history = model.fit(X_train, y_train, epochs=50, verbose=True, validation_data=(X_test, y_test), batch_size=256)"
   ]
  },
  {
   "cell_type": "code",
   "execution_count": 20,
   "metadata": {},
   "outputs": [
    {
     "data": {
      "image/png": "[encoded data removed]",
      "text/plain": [
       "<Figure size 432x288 with 1 Axes>"
      ]
     },
     "metadata": {
      "needs_background": "light"
     },
     "output_type": "display_data"
    }
   ],
   "source": [
    "import matplotlib.pyplot as plt\n",
    "\n",
    "plt.plot(history.history['loss'], color=\"green\")\n",
    "plt.plot(history.history['acc'], color=\"red\")\n",
    "plt.plot(history.history['val_loss'], color=\"blue\")\n",
    "plt.plot(history.history['val_acc'], color=\"yellow\")\n",
    "plt.title('model loss')\n",
    "plt.xlabel(\"Epoch\")\n",
    "plt.legend(['train', 'validation'], loc='upper left')\n",
    "plt.show()"
   ]
  },
  {
   "cell_type": "code",
   "execution_count": null,
   "metadata": {},
   "outputs": [],
   "source": []
  }
 ],
 "metadata": {
  "kernelspec": {
   "display_name": "Python 3",
   "language": "python",
   "name": "python3"
  },
  "language_info": {
   "codemirror_mode": {
    "name": "ipython",
    "version": 3
   },
   "file_extension": ".py",
   "mimetype": "text/x-python",
   "name": "python",
   "nbconvert_exporter": "python",
   "pygments_lexer": "ipython3",
   "version": "3.6.8"
  }
 },
 "nbformat": 4,
 "nbformat_minor": 4
}
